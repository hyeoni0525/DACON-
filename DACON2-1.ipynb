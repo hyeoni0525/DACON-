{
 "cells": [
  {
   "cell_type": "code",
   "execution_count": 1,
   "metadata": {},
   "outputs": [],
   "source": [
    "import torch\n",
    "import torch.nn as nn\n",
    "import torch.optim as optim\n",
    "from torch.optim import AdamW\n",
    "from torch.utils.data import DataLoader, Dataset\n",
    "import cv2\n",
    "import numpy as np\n",
    "import os\n",
    "import zipfile\n",
    "from skimage.metrics import structural_similarity as ssim\n",
    "from tqdm import tqdm\n",
    "\n",
    "os.environ['CUDA_VISIBLE_DEVICES'] = '0,1,2,3'\n",
    "device = torch.device(\"cuda\" if torch.cuda.is_available() else \"cpu\")"
   ]
  },
  {
   "cell_type": "code",
   "execution_count": 2,
   "metadata": {},
   "outputs": [],
   "source": [
    "\n",
    "class UNet(nn.Module):\n",
    "    def __init__(self):\n",
    "        super(UNet, self).__init__()\n",
    "        self.enc1 = self.conv_block(3, 64)\n",
    "        self.enc2 = self.conv_block(64, 128)\n",
    "        self.enc3 = self.conv_block(128, 256)\n",
    "        self.enc4 = self.conv_block(256, 512)\n",
    "        self.enc5 = self.conv_block(512, 1024)\n",
    "\n",
    "        self.up1 = nn.Upsample(scale_factor=2, mode='bilinear', align_corners=True)\n",
    "        self.dec1 = self.conv_block(1024 + 512, 512)\n",
    "\n",
    "        self.up2 = nn.Upsample(scale_factor=2, mode='bilinear', align_corners=True)\n",
    "        self.dec2 = self.conv_block(512 + 256, 256)\n",
    "\n",
    "        self.up3 = nn.Upsample(scale_factor=2, mode='bilinear', align_corners=True)\n",
    "        self.dec3 = self.conv_block(256 + 128, 128)\n",
    "\n",
    "        self.up4 = nn.Upsample(scale_factor=2, mode='bilinear', align_corners=True)\n",
    "        self.dec4 = self.conv_block(128 + 64, 64)\n",
    "\n",
    "        self.final = nn.Conv2d(64, 3, kernel_size=1)\n",
    "\n",
    "    def conv_block(self, in_channels, out_channels):\n",
    "        return nn.Sequential(\n",
    "            nn.Conv2d(in_channels, out_channels, kernel_size=3, padding=1),\n",
    "            nn.ReLU(inplace=True),\n",
    "            nn.Conv2d(out_channels, out_channels, kernel_size=3, padding=1),\n",
    "            nn.ReLU(inplace=True)\n",
    "        )\n",
    "\n",
    "    def forward(self, x):\n",
    "        e1 = self.enc1(x)\n",
    "        e2 = self.enc2(nn.MaxPool2d(2)(e1))\n",
    "        e3 = self.enc3(nn.MaxPool2d(2)(e2))\n",
    "        e4 = self.enc4(nn.MaxPool2d(2)(e3))\n",
    "        e5 = self.enc5(nn.MaxPool2d(2)(e4))\n",
    "\n",
    "        d1 = self.dec1(torch.cat([self.up1(e5), e4], dim=1))\n",
    "        d2 = self.dec2(torch.cat([self.up2(d1), e3], dim=1))\n",
    "        d3 = self.dec3(torch.cat([self.up3(d2), e2], dim=1))\n",
    "        d4 = self.dec4(torch.cat([self.up4(d3), e1], dim=1))\n",
    "\n",
    "        return torch.sigmoid(self.final(d4))\n",
    "\n",
    "class PatchGANDiscriminator(nn.Module):\n",
    "    def __init__(self, in_channels=3):\n",
    "        super(PatchGANDiscriminator, self).__init__()\n",
    "        self.model = nn.Sequential(\n",
    "            nn.Conv2d(in_channels, 64, kernel_size=4, stride=2, padding=1),\n",
    "            nn.LeakyReLU(0.2, inplace=True),\n",
    "            nn.Conv2d(64, 128, kernel_size=4, stride=2, padding=1),\n",
    "            nn.BatchNorm2d(128),\n",
    "            nn.LeakyReLU(0.2, inplace=True),\n",
    "            nn.Conv2d(128, 256, kernel_size=4, stride=2, padding=1),\n",
    "            nn.BatchNorm2d(256),\n",
    "            nn.LeakyReLU(0.2, inplace=True),\n",
    "            nn.Conv2d(256, 512, kernel_size=4, stride=1, padding=1),\n",
    "            nn.BatchNorm2d(512),\n",
    "            nn.LeakyReLU(0.2, inplace=True),\n",
    "            nn.Conv2d(512, 1, kernel_size=4, stride=1, padding=1),\n",
    "            nn.Sigmoid()\n",
    "        )\n",
    "\n",
    "    def forward(self, x):\n",
    "        return self.model(x)\n",
    "\n",
    "class ImageDataset(Dataset):\n",
    "    def __init__(self, input_dir, gt_dir, transform=None):\n",
    "        self.input_dir = input_dir\n",
    "        self.gt_dir = gt_dir\n",
    "        self.input_images = sorted(os.listdir(input_dir))\n",
    "        self.gt_images = sorted(os.listdir(gt_dir))\n",
    "        self.transform = transform\n",
    "\n",
    "    def __len__(self):\n",
    "        return len(self.input_images)\n",
    "\n",
    "    def __getitem__(self, idx):\n",
    "        input_path = os.path.join(self.input_dir, self.input_images[idx])\n",
    "        gt_path = os.path.join(self.gt_dir, self.gt_images[idx])\n",
    "        input_image = cv2.imread(input_path)\n",
    "        gt_image = cv2.imread(gt_path)\n",
    "        if self.transform:\n",
    "            input_image = self.transform(input_image)\n",
    "            gt_image = self.transform(gt_image)\n",
    "        return (\n",
    "            torch.tensor(input_image).permute(2, 0, 1).float() / 255.0,\n",
    "            torch.tensor(gt_image).permute(2, 0, 1).float() / 255.0\n",
    "        )"
   ]
  },
  {
   "cell_type": "code",
   "execution_count": 3,
   "metadata": {},
   "outputs": [
    {
     "name": "stderr",
     "output_type": "stream",
     "text": [
      "Epoch 1/50: 100%|██████████| 3701/3701 [1:06:07<00:00,  1.07s/batch, discriminator_loss=0.582, generator_loss=2.93]\n"
     ]
    },
    {
     "name": "stdout",
     "output_type": "stream",
     "text": [
      "Epoch [1/50] - Generator Loss: 3.5258, Discriminator Loss: 0.4423\n",
      "Epoch 1 results saved to /home/work/hyun/result/epoch_1.zip\n"
     ]
    },
    {
     "name": "stderr",
     "output_type": "stream",
     "text": [
      "Epoch 2/50: 100%|██████████| 3701/3701 [1:05:58<00:00,  1.07s/batch, discriminator_loss=0.508, generator_loss=2.48]\n"
     ]
    },
    {
     "name": "stdout",
     "output_type": "stream",
     "text": [
      "Epoch [2/50] - Generator Loss: 2.1008, Discriminator Loss: 0.6610\n",
      "Epoch 2 results saved to /home/work/hyun/result/epoch_2.zip\n"
     ]
    },
    {
     "name": "stderr",
     "output_type": "stream",
     "text": [
      "Epoch 3/50: 100%|██████████| 3701/3701 [59:20<00:00,  1.04batch/s, discriminator_loss=0.77, generator_loss=1.96]  \n"
     ]
    },
    {
     "name": "stdout",
     "output_type": "stream",
     "text": [
      "Epoch [3/50] - Generator Loss: 1.8709, Discriminator Loss: 0.6698\n",
      "Epoch 3 results saved to /home/work/hyun/result/epoch_3.zip\n"
     ]
    },
    {
     "name": "stderr",
     "output_type": "stream",
     "text": [
      "Epoch 4/50: 100%|██████████| 3701/3701 [1:00:51<00:00,  1.01batch/s, discriminator_loss=0.733, generator_loss=1.64]\n"
     ]
    },
    {
     "name": "stdout",
     "output_type": "stream",
     "text": [
      "Epoch [4/50] - Generator Loss: 1.6819, Discriminator Loss: 0.6708\n",
      "Epoch 4 results saved to /home/work/hyun/result/epoch_4.zip\n"
     ]
    },
    {
     "name": "stderr",
     "output_type": "stream",
     "text": [
      "Epoch 5/50: 100%|██████████| 3701/3701 [1:06:43<00:00,  1.08s/batch, discriminator_loss=0.665, generator_loss=1.5]  \n"
     ]
    },
    {
     "name": "stdout",
     "output_type": "stream",
     "text": [
      "Epoch [5/50] - Generator Loss: 1.5670, Discriminator Loss: 0.6701\n",
      "Epoch 5 results saved to /home/work/hyun/result/epoch_5.zip\n"
     ]
    },
    {
     "name": "stderr",
     "output_type": "stream",
     "text": [
      "Epoch 6/50: 100%|██████████| 3701/3701 [1:07:21<00:00,  1.09s/batch, discriminator_loss=0.629, generator_loss=1.54] \n"
     ]
    },
    {
     "name": "stdout",
     "output_type": "stream",
     "text": [
      "Epoch [6/50] - Generator Loss: 1.4885, Discriminator Loss: 0.6688\n",
      "Epoch 6 results saved to /home/work/hyun/result/epoch_6.zip\n"
     ]
    },
    {
     "name": "stderr",
     "output_type": "stream",
     "text": [
      "Epoch 7/50: 100%|██████████| 3701/3701 [1:07:06<00:00,  1.09s/batch, discriminator_loss=0.638, generator_loss=1.5]  \n"
     ]
    },
    {
     "name": "stdout",
     "output_type": "stream",
     "text": [
      "Epoch [7/50] - Generator Loss: 1.4353, Discriminator Loss: 0.6670\n",
      "Epoch 7 results saved to /home/work/hyun/result/epoch_7.zip\n"
     ]
    },
    {
     "name": "stderr",
     "output_type": "stream",
     "text": [
      "Epoch 8/50: 100%|██████████| 3701/3701 [1:05:33<00:00,  1.06s/batch, discriminator_loss=0.751, generator_loss=1.3]  \n"
     ]
    },
    {
     "name": "stdout",
     "output_type": "stream",
     "text": [
      "Epoch [8/50] - Generator Loss: 1.4119, Discriminator Loss: 0.6615\n",
      "Epoch 8 results saved to /home/work/hyun/result/epoch_8.zip\n"
     ]
    },
    {
     "name": "stderr",
     "output_type": "stream",
     "text": [
      "Epoch 9/50: 100%|██████████| 3701/3701 [1:01:33<00:00,  1.00batch/s, discriminator_loss=0.737, generator_loss=1.12]\n"
     ]
    },
    {
     "name": "stdout",
     "output_type": "stream",
     "text": [
      "Epoch [9/50] - Generator Loss: 1.3930, Discriminator Loss: 0.6519\n",
      "Epoch 9 results saved to /home/work/hyun/result/epoch_9.zip\n"
     ]
    },
    {
     "name": "stderr",
     "output_type": "stream",
     "text": [
      "Epoch 10/50: 100%|██████████| 3701/3701 [47:01<00:00,  1.31batch/s, discriminator_loss=0.723, generator_loss=1.28] \n"
     ]
    },
    {
     "name": "stdout",
     "output_type": "stream",
     "text": [
      "Epoch [10/50] - Generator Loss: 1.3545, Discriminator Loss: 0.6544\n",
      "Epoch 10 results saved to /home/work/hyun/result/epoch_10.zip\n"
     ]
    },
    {
     "name": "stderr",
     "output_type": "stream",
     "text": [
      "Epoch 11/50: 100%|██████████| 3701/3701 [45:41<00:00,  1.35batch/s, discriminator_loss=0.635, generator_loss=1.39] \n"
     ]
    },
    {
     "name": "stdout",
     "output_type": "stream",
     "text": [
      "Epoch [11/50] - Generator Loss: 1.3327, Discriminator Loss: 0.6508\n",
      "Epoch 11 results saved to /home/work/hyun/result/epoch_11.zip\n"
     ]
    },
    {
     "name": "stderr",
     "output_type": "stream",
     "text": [
      "Epoch 12/50: 100%|██████████| 3701/3701 [1:00:16<00:00,  1.02batch/s, discriminator_loss=0.628, generator_loss=1.51]\n"
     ]
    },
    {
     "name": "stdout",
     "output_type": "stream",
     "text": [
      "Epoch [12/50] - Generator Loss: 1.3009, Discriminator Loss: 0.6555\n",
      "Epoch 12 results saved to /home/work/hyun/result/epoch_12.zip\n"
     ]
    },
    {
     "name": "stderr",
     "output_type": "stream",
     "text": [
      "Epoch 13/50: 100%|██████████| 3701/3701 [1:00:29<00:00,  1.02batch/s, discriminator_loss=0.665, generator_loss=1.49]\n"
     ]
    },
    {
     "name": "stdout",
     "output_type": "stream",
     "text": [
      "Epoch [13/50] - Generator Loss: 1.2888, Discriminator Loss: 0.6457\n",
      "Epoch 13 results saved to /home/work/hyun/result/epoch_13.zip\n"
     ]
    },
    {
     "name": "stderr",
     "output_type": "stream",
     "text": [
      "Epoch 14/50: 100%|██████████| 3701/3701 [1:00:43<00:00,  1.02batch/s, discriminator_loss=0.685, generator_loss=1.32] \n"
     ]
    },
    {
     "name": "stdout",
     "output_type": "stream",
     "text": [
      "Epoch [14/50] - Generator Loss: 1.2851, Discriminator Loss: 0.6406\n",
      "Epoch 14 results saved to /home/work/hyun/result/epoch_14.zip\n"
     ]
    },
    {
     "name": "stderr",
     "output_type": "stream",
     "text": [
      "Epoch 15/50: 100%|██████████| 3701/3701 [1:00:35<00:00,  1.02batch/s, discriminator_loss=0.674, generator_loss=1.26] \n"
     ]
    },
    {
     "name": "stdout",
     "output_type": "stream",
     "text": [
      "Epoch [15/50] - Generator Loss: 1.2579, Discriminator Loss: 0.6491\n",
      "Epoch 15 results saved to /home/work/hyun/result/epoch_15.zip\n"
     ]
    },
    {
     "name": "stderr",
     "output_type": "stream",
     "text": [
      "Epoch 16/50: 100%|██████████| 3701/3701 [1:00:39<00:00,  1.02batch/s, discriminator_loss=0.627, generator_loss=1.3]  \n"
     ]
    },
    {
     "name": "stdout",
     "output_type": "stream",
     "text": [
      "Epoch [16/50] - Generator Loss: 1.2303, Discriminator Loss: 0.6524\n",
      "Epoch 16 results saved to /home/work/hyun/result/epoch_16.zip\n"
     ]
    },
    {
     "name": "stderr",
     "output_type": "stream",
     "text": [
      "Epoch 17/50: 100%|██████████| 3701/3701 [1:00:37<00:00,  1.02batch/s, discriminator_loss=0.661, generator_loss=1.29] \n"
     ]
    },
    {
     "name": "stdout",
     "output_type": "stream",
     "text": [
      "Epoch [17/50] - Generator Loss: 1.2019, Discriminator Loss: 0.6552\n",
      "Epoch 17 results saved to /home/work/hyun/result/epoch_17.zip\n"
     ]
    },
    {
     "name": "stderr",
     "output_type": "stream",
     "text": [
      "Epoch 18/50: 100%|██████████| 3701/3701 [1:00:40<00:00,  1.02batch/s, discriminator_loss=0.704, generator_loss=0.939]\n"
     ]
    },
    {
     "name": "stdout",
     "output_type": "stream",
     "text": [
      "Epoch [18/50] - Generator Loss: 1.1774, Discriminator Loss: 0.6609\n",
      "Epoch 18 results saved to /home/work/hyun/result/epoch_18.zip\n"
     ]
    },
    {
     "name": "stderr",
     "output_type": "stream",
     "text": [
      "Epoch 19/50: 100%|██████████| 3701/3701 [1:00:40<00:00,  1.02batch/s, discriminator_loss=0.728, generator_loss=1.03] \n"
     ]
    },
    {
     "name": "stdout",
     "output_type": "stream",
     "text": [
      "Epoch [19/50] - Generator Loss: 1.1534, Discriminator Loss: 0.6624\n",
      "Epoch 19 results saved to /home/work/hyun/result/epoch_19.zip\n"
     ]
    },
    {
     "name": "stderr",
     "output_type": "stream",
     "text": [
      "Epoch 20/50: 100%|██████████| 3701/3701 [47:07<00:00,  1.31batch/s, discriminator_loss=0.405, generator_loss=1.4]   \n"
     ]
    },
    {
     "name": "stdout",
     "output_type": "stream",
     "text": [
      "Epoch [20/50] - Generator Loss: 1.1424, Discriminator Loss: 0.6611\n",
      "Epoch 20 results saved to /home/work/hyun/result/epoch_20.zip\n"
     ]
    },
    {
     "name": "stderr",
     "output_type": "stream",
     "text": [
      "Epoch 21/50: 100%|██████████| 3701/3701 [21:45<00:00,  2.83batch/s, discriminator_loss=0.651, generator_loss=1.23] \n"
     ]
    },
    {
     "name": "stdout",
     "output_type": "stream",
     "text": [
      "Epoch [21/50] - Generator Loss: 1.1274, Discriminator Loss: 0.6612\n",
      "Epoch 21 results saved to /home/work/hyun/result/epoch_21.zip\n"
     ]
    },
    {
     "name": "stderr",
     "output_type": "stream",
     "text": [
      "Epoch 22/50: 100%|██████████| 3701/3701 [16:25<00:00,  3.76batch/s, discriminator_loss=0.63, generator_loss=1.01]  \n"
     ]
    },
    {
     "name": "stdout",
     "output_type": "stream",
     "text": [
      "Epoch [22/50] - Generator Loss: 1.1168, Discriminator Loss: 0.6603\n",
      "Epoch 22 results saved to /home/work/hyun/result/epoch_22.zip\n"
     ]
    },
    {
     "name": "stderr",
     "output_type": "stream",
     "text": [
      "Epoch 23/50: 100%|██████████| 3701/3701 [16:19<00:00,  3.78batch/s, discriminator_loss=0.662, generator_loss=0.909]\n"
     ]
    },
    {
     "name": "stdout",
     "output_type": "stream",
     "text": [
      "Epoch [23/50] - Generator Loss: 1.1105, Discriminator Loss: 0.6579\n",
      "Epoch 23 results saved to /home/work/hyun/result/epoch_23.zip\n"
     ]
    },
    {
     "name": "stderr",
     "output_type": "stream",
     "text": [
      "Epoch 24/50: 100%|██████████| 3701/3701 [16:20<00:00,  3.78batch/s, discriminator_loss=0.671, generator_loss=1.03] \n"
     ]
    },
    {
     "name": "stdout",
     "output_type": "stream",
     "text": [
      "Epoch [24/50] - Generator Loss: 1.1085, Discriminator Loss: 0.6541\n",
      "Epoch 24 results saved to /home/work/hyun/result/epoch_24.zip\n"
     ]
    },
    {
     "name": "stderr",
     "output_type": "stream",
     "text": [
      "Epoch 25/50: 100%|██████████| 3701/3701 [16:22<00:00,  3.77batch/s, discriminator_loss=0.558, generator_loss=1.28] \n"
     ]
    },
    {
     "name": "stdout",
     "output_type": "stream",
     "text": [
      "Epoch [25/50] - Generator Loss: 1.1098, Discriminator Loss: 0.6504\n",
      "Epoch 25 results saved to /home/work/hyun/result/epoch_25.zip\n"
     ]
    },
    {
     "name": "stderr",
     "output_type": "stream",
     "text": [
      "Epoch 26/50: 100%|██████████| 3701/3701 [16:20<00:00,  3.77batch/s, discriminator_loss=0.699, generator_loss=1.3]  \n"
     ]
    },
    {
     "name": "stdout",
     "output_type": "stream",
     "text": [
      "Epoch [26/50] - Generator Loss: 1.1088, Discriminator Loss: 0.6476\n",
      "Epoch 26 results saved to /home/work/hyun/result/epoch_26.zip\n"
     ]
    },
    {
     "name": "stderr",
     "output_type": "stream",
     "text": [
      "Epoch 27/50: 100%|██████████| 3701/3701 [16:19<00:00,  3.78batch/s, discriminator_loss=0.665, generator_loss=1.05] \n"
     ]
    },
    {
     "name": "stdout",
     "output_type": "stream",
     "text": [
      "Epoch [27/50] - Generator Loss: 1.1101, Discriminator Loss: 0.6454\n",
      "Epoch 27 results saved to /home/work/hyun/result/epoch_27.zip\n"
     ]
    },
    {
     "name": "stderr",
     "output_type": "stream",
     "text": [
      "Epoch 28/50: 100%|██████████| 3701/3701 [16:19<00:00,  3.78batch/s, discriminator_loss=0.622, generator_loss=1.22] \n"
     ]
    },
    {
     "name": "stdout",
     "output_type": "stream",
     "text": [
      "Epoch [28/50] - Generator Loss: 1.1165, Discriminator Loss: 0.6374\n",
      "Epoch 28 results saved to /home/work/hyun/result/epoch_28.zip\n"
     ]
    },
    {
     "name": "stderr",
     "output_type": "stream",
     "text": [
      "Epoch 29/50: 100%|██████████| 3701/3701 [16:18<00:00,  3.78batch/s, discriminator_loss=0.606, generator_loss=1.37] \n"
     ]
    },
    {
     "name": "stdout",
     "output_type": "stream",
     "text": [
      "Epoch [29/50] - Generator Loss: 1.1241, Discriminator Loss: 0.6314\n",
      "Epoch 29 results saved to /home/work/hyun/result/epoch_29.zip\n"
     ]
    },
    {
     "name": "stderr",
     "output_type": "stream",
     "text": [
      "Epoch 30/50: 100%|██████████| 3701/3701 [16:19<00:00,  3.78batch/s, discriminator_loss=0.662, generator_loss=1.19] \n"
     ]
    },
    {
     "name": "stdout",
     "output_type": "stream",
     "text": [
      "Epoch [30/50] - Generator Loss: 1.1348, Discriminator Loss: 0.6264\n",
      "Epoch 30 results saved to /home/work/hyun/result/epoch_30.zip\n"
     ]
    },
    {
     "name": "stderr",
     "output_type": "stream",
     "text": [
      "Epoch 31/50: 100%|██████████| 3701/3701 [16:19<00:00,  3.78batch/s, discriminator_loss=0.653, generator_loss=1.33] \n"
     ]
    },
    {
     "name": "stdout",
     "output_type": "stream",
     "text": [
      "Epoch [31/50] - Generator Loss: 1.1462, Discriminator Loss: 0.6193\n",
      "Epoch 31 results saved to /home/work/hyun/result/epoch_31.zip\n"
     ]
    },
    {
     "name": "stderr",
     "output_type": "stream",
     "text": [
      "Epoch 32/50: 100%|██████████| 3701/3701 [16:22<00:00,  3.77batch/s, discriminator_loss=0.671, generator_loss=0.85] \n"
     ]
    },
    {
     "name": "stdout",
     "output_type": "stream",
     "text": [
      "Epoch [32/50] - Generator Loss: 1.1601, Discriminator Loss: 0.6100\n",
      "Epoch 32 results saved to /home/work/hyun/result/epoch_32.zip\n"
     ]
    },
    {
     "name": "stderr",
     "output_type": "stream",
     "text": [
      "Epoch 33/50: 100%|██████████| 3701/3701 [16:21<00:00,  3.77batch/s, discriminator_loss=0.628, generator_loss=1.12] \n"
     ]
    },
    {
     "name": "stdout",
     "output_type": "stream",
     "text": [
      "Epoch [33/50] - Generator Loss: 1.1782, Discriminator Loss: 0.6029\n",
      "Epoch 33 results saved to /home/work/hyun/result/epoch_33.zip\n"
     ]
    },
    {
     "name": "stderr",
     "output_type": "stream",
     "text": [
      "Epoch 34/50: 100%|██████████| 3701/3701 [16:21<00:00,  3.77batch/s, discriminator_loss=0.603, generator_loss=1.19] \n"
     ]
    },
    {
     "name": "stdout",
     "output_type": "stream",
     "text": [
      "Epoch [34/50] - Generator Loss: 1.1966, Discriminator Loss: 0.5952\n",
      "Epoch 34 results saved to /home/work/hyun/result/epoch_34.zip\n"
     ]
    },
    {
     "name": "stderr",
     "output_type": "stream",
     "text": [
      "Epoch 35/50: 100%|██████████| 3701/3701 [16:19<00:00,  3.78batch/s, discriminator_loss=0.643, generator_loss=1.18] \n"
     ]
    },
    {
     "name": "stdout",
     "output_type": "stream",
     "text": [
      "Epoch [35/50] - Generator Loss: 1.2111, Discriminator Loss: 0.5857\n",
      "Epoch 35 results saved to /home/work/hyun/result/epoch_35.zip\n"
     ]
    },
    {
     "name": "stderr",
     "output_type": "stream",
     "text": [
      "Epoch 36/50: 100%|██████████| 3701/3701 [16:18<00:00,  3.78batch/s, discriminator_loss=0.597, generator_loss=1.27] \n"
     ]
    },
    {
     "name": "stdout",
     "output_type": "stream",
     "text": [
      "Epoch [36/50] - Generator Loss: 1.2352, Discriminator Loss: 0.5765\n",
      "Epoch 36 results saved to /home/work/hyun/result/epoch_36.zip\n"
     ]
    },
    {
     "name": "stderr",
     "output_type": "stream",
     "text": [
      "Epoch 37/50: 100%|██████████| 3701/3701 [16:21<00:00,  3.77batch/s, discriminator_loss=0.492, generator_loss=1.29] \n"
     ]
    },
    {
     "name": "stdout",
     "output_type": "stream",
     "text": [
      "Epoch [37/50] - Generator Loss: 1.2555, Discriminator Loss: 0.5685\n",
      "Epoch 37 results saved to /home/work/hyun/result/epoch_37.zip\n"
     ]
    },
    {
     "name": "stderr",
     "output_type": "stream",
     "text": [
      "Epoch 38/50: 100%|██████████| 3701/3701 [16:18<00:00,  3.78batch/s, discriminator_loss=0.565, generator_loss=2.03] \n"
     ]
    },
    {
     "name": "stdout",
     "output_type": "stream",
     "text": [
      "Epoch [38/50] - Generator Loss: 1.2790, Discriminator Loss: 0.5567\n",
      "Epoch 38 results saved to /home/work/hyun/result/epoch_38.zip\n"
     ]
    },
    {
     "name": "stderr",
     "output_type": "stream",
     "text": [
      "Epoch 39/50: 100%|██████████| 3701/3701 [16:18<00:00,  3.78batch/s, discriminator_loss=0.631, generator_loss=1.38] \n"
     ]
    },
    {
     "name": "stdout",
     "output_type": "stream",
     "text": [
      "Epoch [39/50] - Generator Loss: 1.3041, Discriminator Loss: 0.5466\n",
      "Epoch 39 results saved to /home/work/hyun/result/epoch_39.zip\n"
     ]
    },
    {
     "name": "stderr",
     "output_type": "stream",
     "text": [
      "Epoch 40/50: 100%|██████████| 3701/3701 [16:19<00:00,  3.78batch/s, discriminator_loss=0.502, generator_loss=1.39] \n"
     ]
    },
    {
     "name": "stdout",
     "output_type": "stream",
     "text": [
      "Epoch [40/50] - Generator Loss: 1.3326, Discriminator Loss: 0.5383\n",
      "Epoch 40 results saved to /home/work/hyun/result/epoch_40.zip\n"
     ]
    },
    {
     "name": "stderr",
     "output_type": "stream",
     "text": [
      "Epoch 41/50: 100%|██████████| 3701/3701 [16:21<00:00,  3.77batch/s, discriminator_loss=0.482, generator_loss=1.55] \n"
     ]
    },
    {
     "name": "stdout",
     "output_type": "stream",
     "text": [
      "Epoch [41/50] - Generator Loss: 1.3615, Discriminator Loss: 0.5265\n",
      "Epoch 41 results saved to /home/work/hyun/result/epoch_41.zip\n"
     ]
    },
    {
     "name": "stderr",
     "output_type": "stream",
     "text": [
      "Epoch 42/50: 100%|██████████| 3701/3701 [16:18<00:00,  3.78batch/s, discriminator_loss=0.443, generator_loss=1.43] \n"
     ]
    },
    {
     "name": "stdout",
     "output_type": "stream",
     "text": [
      "Epoch [42/50] - Generator Loss: 1.4058, Discriminator Loss: 0.5117\n",
      "Epoch 42 results saved to /home/work/hyun/result/epoch_42.zip\n"
     ]
    },
    {
     "name": "stderr",
     "output_type": "stream",
     "text": [
      "Epoch 43/50: 100%|██████████| 3701/3701 [16:20<00:00,  3.77batch/s, discriminator_loss=0.769, generator_loss=1.9]  \n"
     ]
    },
    {
     "name": "stdout",
     "output_type": "stream",
     "text": [
      "Epoch [43/50] - Generator Loss: 1.4464, Discriminator Loss: 0.4971\n",
      "Epoch 43 results saved to /home/work/hyun/result/epoch_43.zip\n"
     ]
    },
    {
     "name": "stderr",
     "output_type": "stream",
     "text": [
      "Epoch 44/50: 100%|██████████| 3701/3701 [16:20<00:00,  3.77batch/s, discriminator_loss=0.516, generator_loss=1.51] \n"
     ]
    },
    {
     "name": "stdout",
     "output_type": "stream",
     "text": [
      "Epoch [44/50] - Generator Loss: 1.4926, Discriminator Loss: 0.4827\n",
      "Epoch 44 results saved to /home/work/hyun/result/epoch_44.zip\n"
     ]
    },
    {
     "name": "stderr",
     "output_type": "stream",
     "text": [
      "Epoch 45/50: 100%|██████████| 3701/3701 [16:18<00:00,  3.78batch/s, discriminator_loss=0.516, generator_loss=1.7]  \n"
     ]
    },
    {
     "name": "stdout",
     "output_type": "stream",
     "text": [
      "Epoch [45/50] - Generator Loss: 1.5359, Discriminator Loss: 0.4680\n",
      "Epoch 45 results saved to /home/work/hyun/result/epoch_45.zip\n"
     ]
    },
    {
     "name": "stderr",
     "output_type": "stream",
     "text": [
      "Epoch 46/50: 100%|██████████| 3701/3701 [16:22<00:00,  3.77batch/s, discriminator_loss=0.686, generator_loss=1.66]\n"
     ]
    },
    {
     "name": "stdout",
     "output_type": "stream",
     "text": [
      "Epoch [46/50] - Generator Loss: 1.5864, Discriminator Loss: 0.4550\n",
      "Epoch 46 results saved to /home/work/hyun/result/epoch_46.zip\n"
     ]
    },
    {
     "name": "stderr",
     "output_type": "stream",
     "text": [
      "Epoch 47/50: 100%|██████████| 3701/3701 [17:13<00:00,  3.58batch/s, discriminator_loss=0.437, generator_loss=1.36]\n"
     ]
    },
    {
     "name": "stdout",
     "output_type": "stream",
     "text": [
      "Epoch [47/50] - Generator Loss: 1.6334, Discriminator Loss: 0.4419\n",
      "Epoch 47 results saved to /home/work/hyun/result/epoch_47.zip\n"
     ]
    },
    {
     "name": "stderr",
     "output_type": "stream",
     "text": [
      "Epoch 48/50: 100%|██████████| 3701/3701 [17:37<00:00,  3.50batch/s, discriminator_loss=0.415, generator_loss=1.85]\n"
     ]
    },
    {
     "name": "stdout",
     "output_type": "stream",
     "text": [
      "Epoch [48/50] - Generator Loss: 1.6893, Discriminator Loss: 0.4295\n",
      "Epoch 48 results saved to /home/work/hyun/result/epoch_48.zip\n"
     ]
    },
    {
     "name": "stderr",
     "output_type": "stream",
     "text": [
      "Epoch 49/50: 100%|██████████| 3701/3701 [17:06<00:00,  3.60batch/s, discriminator_loss=0.334, generator_loss=1.87]\n"
     ]
    },
    {
     "name": "stdout",
     "output_type": "stream",
     "text": [
      "Epoch [49/50] - Generator Loss: 1.7378, Discriminator Loss: 0.4165\n",
      "Epoch 49 results saved to /home/work/hyun/result/epoch_49.zip\n"
     ]
    },
    {
     "name": "stderr",
     "output_type": "stream",
     "text": [
      "Epoch 50/50: 100%|██████████| 3701/3701 [16:18<00:00,  3.78batch/s, discriminator_loss=0.596, generator_loss=1.92]\n"
     ]
    },
    {
     "name": "stdout",
     "output_type": "stream",
     "text": [
      "Epoch [50/50] - Generator Loss: 1.7866, Discriminator Loss: 0.4047\n",
      "Epoch 50 results saved to /home/work/hyun/result/epoch_50.zip\n"
     ]
    },
    {
     "data": {
      "text/plain": [
       "DataParallel(\n",
       "  (module): PatchGANDiscriminator(\n",
       "    (model): Sequential(\n",
       "      (0): Conv2d(3, 64, kernel_size=(4, 4), stride=(2, 2), padding=(1, 1))\n",
       "      (1): LeakyReLU(negative_slope=0.2, inplace=True)\n",
       "      (2): Conv2d(64, 128, kernel_size=(4, 4), stride=(2, 2), padding=(1, 1))\n",
       "      (3): BatchNorm2d(128, eps=1e-05, momentum=0.1, affine=True, track_running_stats=True)\n",
       "      (4): LeakyReLU(negative_slope=0.2, inplace=True)\n",
       "      (5): Conv2d(128, 256, kernel_size=(4, 4), stride=(2, 2), padding=(1, 1))\n",
       "      (6): BatchNorm2d(256, eps=1e-05, momentum=0.1, affine=True, track_running_stats=True)\n",
       "      (7): LeakyReLU(negative_slope=0.2, inplace=True)\n",
       "      (8): Conv2d(256, 512, kernel_size=(4, 4), stride=(1, 1), padding=(1, 1))\n",
       "      (9): BatchNorm2d(512, eps=1e-05, momentum=0.1, affine=True, track_running_stats=True)\n",
       "      (10): LeakyReLU(negative_slope=0.2, inplace=True)\n",
       "      (11): Conv2d(512, 1, kernel_size=(4, 4), stride=(1, 1), padding=(1, 1))\n",
       "      (12): Sigmoid()\n",
       "    )\n",
       "  )\n",
       ")"
      ]
     },
     "execution_count": 3,
     "metadata": {},
     "output_type": "execute_result"
    }
   ],
   "source": [
    "\n",
    "generator = UNet().to(device)\n",
    "discriminator = PatchGANDiscriminator().to(device)\n",
    "\n",
    "generator = nn.DataParallel(generator, device_ids=[0])\n",
    "discriminator = nn.DataParallel(discriminator, device_ids=[0])\n",
    "\n",
    "adversarial_loss = nn.BCELoss()  \n",
    "pixel_loss = nn.MSELoss()  \n",
    "\n",
    "optimizer_G = optim.AdamW(generator.parameters(), lr=3e-5, betas=(0.9, 0.999), weight_decay=0)\n",
    "optimizer_D = optim.AdamW(discriminator.parameters(), lr=3e-5, betas=(0.9, 0.999), weight_decay=0)\n",
    "\n",
    "train_dataset = ImageDataset(\"/home/work/hyun/HYUN/train_input\", \"/home/work/hyun/HYUN/train_gt\")\n",
    "train_loader = DataLoader(train_dataset, batch_size=8, shuffle=True, num_workers=1, pin_memory=True)\n",
    "\n",
    "epochs = 50\n",
    "result_dir = \"/home/work/hyun/result\"\n",
    "os.makedirs(result_dir, exist_ok=True)\n",
    "checkpoint_path = \"checkpoint.pth\"\n",
    "\n",
    "for epoch in range(epochs):\n",
    "    generator.train()\n",
    "    discriminator.train()\n",
    "    running_loss_G = 0.0\n",
    "    running_loss_D = 0.0\n",
    "\n",
    "    with tqdm(total=len(train_loader), desc=f\"Epoch {epoch+1}/{epochs}\", unit=\"batch\") as pbar:\n",
    "        for input_images, gt_images in train_loader:\n",
    "            input_images, gt_images = input_images.to(device), gt_images.to(device)\n",
    "\n",
    "            real_labels = torch.ones_like(discriminator(gt_images)).to(device)\n",
    "            fake_labels = torch.zeros_like(discriminator(input_images)).to(device)\n",
    "\n",
    "            optimizer_G.zero_grad()\n",
    "            fake_images = generator(input_images)\n",
    "            pred_fake = discriminator(fake_images)\n",
    "\n",
    "            g_loss_adv = adversarial_loss(pred_fake, real_labels)\n",
    "            g_loss_pixel = pixel_loss(fake_images, gt_images)\n",
    "            g_loss = g_loss_adv + 100 * g_loss_pixel\n",
    "            g_loss.backward()\n",
    "            optimizer_G.step()\n",
    "\n",
    "            optimizer_D.zero_grad()\n",
    "            pred_real = discriminator(gt_images)\n",
    "            loss_real = adversarial_loss(pred_real, real_labels)\n",
    "\n",
    "            pred_fake = discriminator(fake_images.detach())\n",
    "            loss_fake = adversarial_loss(pred_fake, fake_labels)\n",
    "\n",
    "            d_loss = (loss_real + loss_fake) / 2\n",
    "            d_loss.backward()\n",
    "            optimizer_D.step()\n",
    "\n",
    "            running_loss_G += g_loss.item()\n",
    "            running_loss_D += d_loss.item()\n",
    "\n",
    "            pbar.set_postfix(generator_loss=g_loss.item(), discriminator_loss=d_loss.item())\n",
    "            pbar.update(1)\n",
    "\n",
    "    print(f\"Epoch [{epoch+1}/{epochs}] - Generator Loss: {running_loss_G / len(train_loader):.4f}, Discriminator Loss: {running_loss_D / len(train_loader):.4f}\")\n",
    "\n",
    "    test_input_dir = \"/home/work/hyun/HYUN/test_input\"\n",
    "    # 최상위 폴더 경로\n",
    "    base_dir = \"/home/work/hyun/output_image\"\n",
    "    output_dir = os.path.join(base_dir, f\"output_images_epoch_{epoch+1}\")\n",
    "    os.makedirs(output_dir, exist_ok=True)\n",
    "    with torch.no_grad():\n",
    "        for img_name in sorted(os.listdir(test_input_dir)):\n",
    "            img_path = os.path.join(test_input_dir, img_name)\n",
    "            img = cv2.imread(img_path)\n",
    "            input_tensor = torch.tensor(img).permute(2, 0, 1).unsqueeze(0).float().to(device) / 255.0\n",
    "            output = generator(input_tensor).squeeze().permute(1, 2, 0).cpu().numpy() * 255.0\n",
    "            output = output.astype(np.uint8)\n",
    "            cv2.imwrite(os.path.join(output_dir, img_name), output)\n",
    "\n",
    "    zip_filename = os.path.join(result_dir, f\"epoch_{epoch+1}.zip\")\n",
    "    with zipfile.ZipFile(zip_filename, 'w') as zipf:\n",
    "        for img_name in os.listdir(output_dir):\n",
    "            zipf.write(os.path.join(output_dir, img_name), arcname=img_name)\n",
    "    print(f\"Epoch {epoch+1} results saved to {zip_filename}\")\n",
    "\n",
    "    torch.save({\n",
    "        'epoch': epoch,\n",
    "        'generator_state_dict': generator.state_dict(),\n",
    "        'discriminator_state_dict': discriminator.state_dict(),\n",
    "        'optimizer_G_state_dict': optimizer_G.state_dict(),\n",
    "        'optimizer_D_state_dict': optimizer_D.state_dict()\n",
    "    }, checkpoint_path)\n",
    "\n",
    "generator.train()  \n",
    "discriminator.train()  "
   ]
  },
  {
   "cell_type": "code",
   "execution_count": null,
   "metadata": {},
   "outputs": [],
   "source": []
  }
 ],
 "metadata": {
  "kernelspec": {
   "display_name": "base",
   "language": "python",
   "name": "python3"
  },
  "language_info": {
   "codemirror_mode": {
    "name": "ipython",
    "version": 3
   },
   "file_extension": ".py",
   "mimetype": "text/x-python",
   "name": "python",
   "nbconvert_exporter": "python",
   "pygments_lexer": "ipython3",
   "version": "3.8.13"
  },
  "orig_nbformat": 4,
  "vscode": {
   "interpreter": {
    "hash": "d4d1e4263499bec80672ea0156c357c1ee493ec2b1c70f0acce89fc37c4a6abe"
   }
  }
 },
 "nbformat": 4,
 "nbformat_minor": 2
}
